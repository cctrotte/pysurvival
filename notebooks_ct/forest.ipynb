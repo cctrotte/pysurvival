{
 "cells": [
  {
   "cell_type": "code",
   "execution_count": 3,
   "metadata": {},
   "outputs": [],
   "source": [
    "import sys\n",
    "\n",
    "# adapt paths\n",
    "sys.path.append(\"/home/cctrotte/krauthammer/stcs_code/pysurvival_mine/\")\n",
    "sys.path.append(\"/home/cctrotte/krauthammer/stcs_code/pysurvival_mine/AutonSurvival/\")"
   ]
  },
  {
   "cell_type": "code",
   "execution_count": 4,
   "metadata": {},
   "outputs": [
    {
     "name": "stdout",
     "output_type": "stream",
     "text": [
      "Populating the interactive namespace from numpy and matplotlib\n",
      "Number of data-points: 1000 - Number of events: 471.0\n"
     ]
    },
    {
     "data": {
      "text/html": [
       "<div>\n",
       "<style scoped>\n",
       "    .dataframe tbody tr th:only-of-type {\n",
       "        vertical-align: middle;\n",
       "    }\n",
       "\n",
       "    .dataframe tbody tr th {\n",
       "        vertical-align: top;\n",
       "    }\n",
       "\n",
       "    .dataframe thead th {\n",
       "        text-align: right;\n",
       "    }\n",
       "</style>\n",
       "<table border=\"1\" class=\"dataframe\">\n",
       "  <thead>\n",
       "    <tr style=\"text-align: right;\">\n",
       "      <th></th>\n",
       "      <th>x_1</th>\n",
       "      <th>x_2</th>\n",
       "      <th>x_3</th>\n",
       "      <th>x_4</th>\n",
       "      <th>time</th>\n",
       "      <th>event</th>\n",
       "    </tr>\n",
       "  </thead>\n",
       "  <tbody>\n",
       "    <tr>\n",
       "      <th>0</th>\n",
       "      <td>0.018240</td>\n",
       "      <td>-17.741301</td>\n",
       "      <td>0.013725</td>\n",
       "      <td>13.0</td>\n",
       "      <td>0.17394</td>\n",
       "      <td>0.0</td>\n",
       "    </tr>\n",
       "    <tr>\n",
       "      <th>1</th>\n",
       "      <td>0.200703</td>\n",
       "      <td>-14.888199</td>\n",
       "      <td>0.023408</td>\n",
       "      <td>9.0</td>\n",
       "      <td>0.00000</td>\n",
       "      <td>0.0</td>\n",
       "    </tr>\n",
       "  </tbody>\n",
       "</table>\n",
       "</div>"
      ],
      "text/plain": [
       "        x_1        x_2       x_3   x_4     time  event\n",
       "0  0.018240 -17.741301  0.013725  13.0  0.17394    0.0\n",
       "1  0.200703 -14.888199  0.023408   9.0  0.00000    0.0"
      ]
     },
     "execution_count": 4,
     "metadata": {},
     "output_type": "execute_result"
    }
   ],
   "source": [
    "#### 1 - Importing packages\n",
    "import numpy as np\n",
    "import pandas as pd\n",
    "from matplotlib import pyplot as plt\n",
    "from sklearn.model_selection import train_test_split\n",
    "from sklearn.preprocessing import StandardScaler\n",
    "from pysurvival_mine.models.simulations import SimulationModel\n",
    "from pysurvival_mine.models.survival_forest import ConditionalSurvivalForestModel\n",
    "from pysurvival_mine.utils.metrics import concordance_index\n",
    "from pysurvival_mine.utils.display import integrated_brier_score\n",
    "\n",
    "%pylab inline\n",
    "\n",
    "#### 2 - Generating the dataset from a Exponential parametric model\n",
    "# Initializing the simulation model\n",
    "sim = SimulationModel(\n",
    "    survival_distribution=\"exponential\",\n",
    "    risk_type=\"linear\",\n",
    "    censored_parameter=1,\n",
    "    alpha=3,\n",
    ")\n",
    "\n",
    "# Generating N random samples\n",
    "N = 1000\n",
    "dataset = sim.generate_data(num_samples=N, num_features=4)\n",
    "\n",
    "# Showing a few data-points\n",
    "dataset.head(2)"
   ]
  },
  {
   "cell_type": "code",
   "execution_count": 5,
   "metadata": {},
   "outputs": [
    {
     "name": "stdout",
     "output_type": "stream",
     "text": [
      "C-index: 0.76\n"
     ]
    },
    {
     "data": {
      "image/png": "[encoded data removed]",
      "text/plain": [
       "<Figure size 1440x468 with 1 Axes>"
      ]
     },
     "metadata": {
      "needs_background": "light"
     },
     "output_type": "display_data"
    },
    {
     "name": "stdout",
     "output_type": "stream",
     "text": [
      "IBS: 0.06\n"
     ]
    }
   ],
   "source": [
    "#### 3 - Creating the modeling dataset\n",
    "# Defining the features\n",
    "features = sim.features\n",
    "\n",
    "# Building training and testing sets #\n",
    "index_train, index_test = train_test_split(range(N), test_size=0.2)\n",
    "data_train = dataset.loc[index_train].reset_index(drop=True)\n",
    "data_test = dataset.loc[index_test].reset_index(drop=True)\n",
    "\n",
    "# Creating the X, T and E input\n",
    "X_train, X_test = data_train[features], data_test[features]\n",
    "T_train, T_test = data_train[\"time\"].values, data_test[\"time\"].values\n",
    "E_train, E_test = data_train[\"event\"].values, data_test[\"event\"].values\n",
    "X_valid, T_valid, E_valid = X_test, T_test, E_test\n",
    "\n",
    "#### 4 - Creating an instance of the NonLinear CoxPH model and fitting\n",
    "# the data.\n",
    "\n",
    "# Defining the MLP structure. Here we will build a 1-hidden layer\n",
    "# with 150 units and `BentIdentity` as its activation function\n",
    "\n",
    "\n",
    "scaler = StandardScaler()\n",
    "X_train = scaler.fit_transform(X_train)\n",
    "X_valid = scaler.transform(X_valid)\n",
    "X_test = scaler.transform(X_test)\n",
    "\n",
    "\n",
    "#### 4 - Creating an instance of the Conditional model and fitting the data.\n",
    "# Building the model\n",
    "csf = ConditionalSurvivalForestModel(num_trees=200)\n",
    "csf.fit(\n",
    "    X_train,\n",
    "    T_train,\n",
    "    E_train,\n",
    "    max_features=\"sqrt\",\n",
    "    max_depth=5,\n",
    "    min_node_size=20,\n",
    "    alpha=0.05,\n",
    "    minprop=0.1,\n",
    ")\n",
    "\n",
    "\n",
    "#### 5 - Cross Validation / Model Performances\n",
    "c_index = concordance_index(csf, X_test, T_test, E_test)  # 0.81\n",
    "print(\"C-index: {:.2f}\".format(c_index))\n",
    "\n",
    "ibs = integrated_brier_score(\n",
    "    csf, X_test, T_test, E_test, t_max=30, figure_size=(20, 6.5)\n",
    ")\n",
    "print(\"IBS: {:.2f}\".format(ibs))"
   ]
  },
  {
   "cell_type": "code",
   "execution_count": null,
   "metadata": {},
   "outputs": [],
   "source": []
  }
 ],
 "metadata": {
  "kernelspec": {
   "display_name": "envir",
   "language": "python",
   "name": "python3"
  },
  "language_info": {
   "codemirror_mode": {
    "name": "ipython",
    "version": 3
   },
   "file_extension": ".py",
   "mimetype": "text/x-python",
   "name": "python",
   "nbconvert_exporter": "python",
   "pygments_lexer": "ipython3",
   "version": "3.8.10"
  }
 },
 "nbformat": 4,
 "nbformat_minor": 2
}
