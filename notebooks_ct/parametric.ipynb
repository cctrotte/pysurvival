{
 "cells": [
  {
   "cell_type": "code",
   "execution_count": 1,
   "metadata": {},
   "outputs": [],
   "source": [
    "import sys\n",
    "\n",
    "# adapt paths\n",
    "sys.path.append(\"/home/cctrotte/krauthammer/stcs_code/pysurvival_mine/\")"
   ]
  },
  {
   "cell_type": "code",
   "execution_count": 2,
   "metadata": {},
   "outputs": [
    {
     "name": "stdout",
     "output_type": "stream",
     "text": [
      "%pylab is deprecated, use %matplotlib inline and import the required libraries.\n",
      "Populating the interactive namespace from numpy and matplotlib\n",
      "Number of data-points: 1000 - Number of events: 958.0\n"
     ]
    },
    {
     "data": {
      "text/html": [
       "<div>\n",
       "<style scoped>\n",
       "    .dataframe tbody tr th:only-of-type {\n",
       "        vertical-align: middle;\n",
       "    }\n",
       "\n",
       "    .dataframe tbody tr th {\n",
       "        vertical-align: top;\n",
       "    }\n",
       "\n",
       "    .dataframe thead th {\n",
       "        text-align: right;\n",
       "    }\n",
       "</style>\n",
       "<table border=\"1\" class=\"dataframe\">\n",
       "  <thead>\n",
       "    <tr style=\"text-align: right;\">\n",
       "      <th></th>\n",
       "      <th>x_1</th>\n",
       "      <th>x_2</th>\n",
       "      <th>x_3</th>\n",
       "      <th>time</th>\n",
       "      <th>event</th>\n",
       "    </tr>\n",
       "  </thead>\n",
       "  <tbody>\n",
       "    <tr>\n",
       "      <th>0</th>\n",
       "      <td>0.000576</td>\n",
       "      <td>8.180828</td>\n",
       "      <td>8.0</td>\n",
       "      <td>2.552202</td>\n",
       "      <td>1.0</td>\n",
       "    </tr>\n",
       "    <tr>\n",
       "      <th>1</th>\n",
       "      <td>0.000383</td>\n",
       "      <td>4.979415</td>\n",
       "      <td>10.0</td>\n",
       "      <td>2.026853</td>\n",
       "      <td>1.0</td>\n",
       "    </tr>\n",
       "  </tbody>\n",
       "</table>\n",
       "</div>"
      ],
      "text/plain": [
       "        x_1       x_2   x_3      time  event\n",
       "0  0.000576  8.180828   8.0  2.552202    1.0\n",
       "1  0.000383  4.979415  10.0  2.026853    1.0"
      ]
     },
     "execution_count": 2,
     "metadata": {},
     "output_type": "execute_result"
    }
   ],
   "source": [
    "#### 1 - Importing packages\n",
    "import numpy as np\n",
    "import pandas as pd\n",
    "from matplotlib import pyplot as plt\n",
    "from sklearn.model_selection import train_test_split\n",
    "from sklearn.preprocessing import StandardScaler\n",
    "from pysurvival_mine.models.simulations import SimulationModel\n",
    "from pysurvival_mine.models.parametric_mine import GompertzModelMine, LogLogisticModelMine, LogNormalModelMine\n",
    "from pysurvival_mine.utils.metrics import concordance_index\n",
    "from pysurvival_mine.utils.display import integrated_brier_score\n",
    "%pylab inline\n",
    "\n",
    "#### 2 - Generating the dataset from a Gompertz parametric model\n",
    "# Initializing the simulation model\n",
    "sim = SimulationModel( survival_distribution = 'Gompertz',\n",
    "                       risk_type = 'linear',\n",
    "                       censored_parameter = 10.0,\n",
    "                       alpha = .01, beta = 3.0 )\n",
    "\n",
    "# Generating N random samples \n",
    "N = 1000\n",
    "dataset = sim.generate_data(num_samples = N, num_features = 3)\n",
    "\n",
    "# Showing a few data-points \n",
    "time_column = 'time'\n",
    "event_column = 'event'\n",
    "dataset.head(2)"
   ]
  },
  {
   "cell_type": "code",
   "execution_count": 9,
   "metadata": {},
   "outputs": [
    {
     "name": "stderr",
     "output_type": "stream",
     "text": [
      "% Completion:   0%|                                                           |\r"
     ]
    },
    {
     "ename": "ValueError",
     "evalue": "The #1 argument contains null values",
     "output_type": "error",
     "traceback": [
      "\u001b[0;31m---------------------------------------------------------------------------\u001b[0m",
      "\u001b[0;31mValueError\u001b[0m                                Traceback (most recent call last)",
      "\u001b[1;32m/home/cctrotte/krauthammer/stcs_code/pysurvival_mine/notebooks_ct/parametric.ipynb Cell 3\u001b[0m line \u001b[0;36m2\n\u001b[1;32m     <a href='vscode-notebook-cell://wsl%2Bubuntu/home/cctrotte/krauthammer/stcs_code/pysurvival_mine/notebooks_ct/parametric.ipynb#W1sdnNjb2RlLXJlbW90ZQ%3D%3D?line=20'>21</a>\u001b[0m \u001b[39m#### 4 - Creating an instance of the Gompertz model and fitting the data.\u001b[39;00m\n\u001b[1;32m     <a href='vscode-notebook-cell://wsl%2Bubuntu/home/cctrotte/krauthammer/stcs_code/pysurvival_mine/notebooks_ct/parametric.ipynb#W1sdnNjb2RlLXJlbW90ZQ%3D%3D?line=21'>22</a>\u001b[0m \u001b[39m# Building the model\u001b[39;00m\n\u001b[1;32m     <a href='vscode-notebook-cell://wsl%2Bubuntu/home/cctrotte/krauthammer/stcs_code/pysurvival_mine/notebooks_ct/parametric.ipynb#W1sdnNjb2RlLXJlbW90ZQ%3D%3D?line=22'>23</a>\u001b[0m gomp_model \u001b[39m=\u001b[39m LogNormalModelMine(auto_scaler \u001b[39m=\u001b[39m \u001b[39mFalse\u001b[39;00m)\n\u001b[0;32m---> <a href='vscode-notebook-cell://wsl%2Bubuntu/home/cctrotte/krauthammer/stcs_code/pysurvival_mine/notebooks_ct/parametric.ipynb#W1sdnNjb2RlLXJlbW90ZQ%3D%3D?line=23'>24</a>\u001b[0m gomp_model\u001b[39m.\u001b[39;49mfit(X_train, T_train, E_train, X_valid, T_valid, E_valid, lr\u001b[39m=\u001b[39;49m\u001b[39m1e-3\u001b[39;49m, init_method\u001b[39m=\u001b[39;49m\u001b[39m'\u001b[39;49m\u001b[39mzeros\u001b[39;49m\u001b[39m'\u001b[39;49m,\n\u001b[1;32m     <a href='vscode-notebook-cell://wsl%2Bubuntu/home/cctrotte/krauthammer/stcs_code/pysurvival_mine/notebooks_ct/parametric.ipynb#W1sdnNjb2RlLXJlbW90ZQ%3D%3D?line=24'>25</a>\u001b[0m     optimizer \u001b[39m=\u001b[39;49m\u001b[39m'\u001b[39;49m\u001b[39madam\u001b[39;49m\u001b[39m'\u001b[39;49m, l2_reg \u001b[39m=\u001b[39;49m \u001b[39m1e-3\u001b[39;49m, num_epochs\u001b[39m=\u001b[39;49m\u001b[39m2000\u001b[39;49m)\n\u001b[1;32m     <a href='vscode-notebook-cell://wsl%2Bubuntu/home/cctrotte/krauthammer/stcs_code/pysurvival_mine/notebooks_ct/parametric.ipynb#W1sdnNjb2RlLXJlbW90ZQ%3D%3D?line=27'>28</a>\u001b[0m \u001b[39m#### 5 - Cross Validation / Model Performances\u001b[39;00m\n\u001b[1;32m     <a href='vscode-notebook-cell://wsl%2Bubuntu/home/cctrotte/krauthammer/stcs_code/pysurvival_mine/notebooks_ct/parametric.ipynb#W1sdnNjb2RlLXJlbW90ZQ%3D%3D?line=28'>29</a>\u001b[0m c_index \u001b[39m=\u001b[39m concordance_index(gomp_model, X_test, T_test, E_test) \u001b[39m#0.77\u001b[39;00m\n",
      "File \u001b[0;32m~/krauthammer/stcs_code/pysurvival_mine/pysurvival_mine/models/parametric_mine.py:258\u001b[0m, in \u001b[0;36mBaseParametricModelMine.fit\u001b[0;34m(self, X, T, E, X_valid, T_valid, E_valid, init_method, optimizer, lr, num_epochs, l2_reg, verbose, is_min_time_zero, extra_pct_time)\u001b[0m\n\u001b[1;32m    255\u001b[0m E_valid \u001b[39m=\u001b[39m torch\u001b[39m.\u001b[39mFloatTensor(E_valid\u001b[39m.\u001b[39mreshape(\u001b[39m-\u001b[39m\u001b[39m1\u001b[39m, \u001b[39m1\u001b[39m))\n\u001b[1;32m    257\u001b[0m \u001b[39m# Performing order 1 optimization\u001b[39;00m\n\u001b[0;32m--> 258\u001b[0m model, loss_values \u001b[39m=\u001b[39m opt\u001b[39m.\u001b[39;49moptimize_mine(\u001b[39mself\u001b[39;49m, \u001b[39mself\u001b[39;49m\u001b[39m.\u001b[39;49mloss_function, model, optimizer, \n\u001b[1;32m    259\u001b[0m     X, T, E, X_valid, T_valid,E_valid, lr, num_epochs, verbose, l2_reg\u001b[39m=\u001b[39;49ml2_reg)\n\u001b[1;32m    261\u001b[0m \u001b[39m# Saving attributes\u001b[39;00m\n\u001b[1;32m    262\u001b[0m \u001b[39mself\u001b[39m\u001b[39m.\u001b[39mmodel \u001b[39m=\u001b[39m model\u001b[39m.\u001b[39meval()\n",
      "File \u001b[0;32m~/krauthammer/stcs_code/pysurvival_mine/pysurvival_mine/utils/optimization.py:342\u001b[0m, in \u001b[0;36moptimize_mine\u001b[0;34m(model_wrapper, loss_function, model, optimizer_str, X, T, E, X_valid, T_valid, E_valid, lr, nb_epochs, verbose, num_workers, **kargs)\u001b[0m\n\u001b[1;32m    340\u001b[0m     widgets[\u001b[39m-\u001b[39m\u001b[39m1\u001b[39m] \u001b[39m=\u001b[39m \u001b[39m\"\u001b[39m\u001b[39mLoss: \u001b[39m\u001b[39m{:6.2f}\u001b[39;00m\u001b[39m\"\u001b[39m\u001b[39m.\u001b[39mformat( loss_value )\n\u001b[1;32m    341\u001b[0m \u001b[39mif\u001b[39;00m epoch\u001b[39m%\u001b[39m\u001b[39m10\u001b[39m \u001b[39m==\u001b[39m \u001b[39m0\u001b[39m:\n\u001b[0;32m--> 342\u001b[0m     c_index_valid \u001b[39m=\u001b[39m concordance_index_mine(model_wrapper, temp_model, X\u001b[39m=\u001b[39;49mnp\u001b[39m.\u001b[39;49marray(X_valid), T\u001b[39m=\u001b[39;49mnp\u001b[39m.\u001b[39;49marray(T_valid)\u001b[39m.\u001b[39;49mflatten(), E\u001b[39m=\u001b[39;49mnp\u001b[39m.\u001b[39;49marray(E_valid)\u001b[39m.\u001b[39;49mflatten())\n\u001b[1;32m    343\u001b[0m     c_index_train \u001b[39m=\u001b[39m concordance_index_mine(model_wrapper, temp_model, X\u001b[39m=\u001b[39mnp\u001b[39m.\u001b[39marray(X), T\u001b[39m=\u001b[39mnp\u001b[39m.\u001b[39marray(T)\u001b[39m.\u001b[39mflatten(), E\u001b[39m=\u001b[39mnp\u001b[39m.\u001b[39marray(E)\u001b[39m.\u001b[39mflatten())\n\u001b[1;32m    344\u001b[0m     metrics[\u001b[39m\"\u001b[39m\u001b[39mc_index_valid\u001b[39m\u001b[39m\"\u001b[39m]\u001b[39m.\u001b[39mappend(c_index_valid)\n",
      "File \u001b[0;32m~/krauthammer/stcs_code/pysurvival_mine/pysurvival_mine/utils/metrics.py:133\u001b[0m, in \u001b[0;36mconcordance_index_mine\u001b[0;34m(model_wrapper, model, X, T, E, include_ties, additional_results, **kwargs)\u001b[0m\n\u001b[1;32m    131\u001b[0m \u001b[39m# Checking the format of the data \u001b[39;00m\n\u001b[1;32m    132\u001b[0m risk \u001b[39m=\u001b[39m model_wrapper\u001b[39m.\u001b[39mpredict_risk_mine(model, X, \u001b[39m*\u001b[39m\u001b[39m*\u001b[39mkwargs)\n\u001b[0;32m--> 133\u001b[0m risk, T, E \u001b[39m=\u001b[39m utils\u001b[39m.\u001b[39;49mcheck_data(risk, T, E)\n\u001b[1;32m    135\u001b[0m \u001b[39m# Ordering risk, T and E in descending order according to T\u001b[39;00m\n\u001b[1;32m    136\u001b[0m order \u001b[39m=\u001b[39m np\u001b[39m.\u001b[39margsort(\u001b[39m-\u001b[39mT)\n",
      "File \u001b[0;32m~/krauthammer/stcs_code/pysurvival_mine/pysurvival_mine/utils/__init__.py:71\u001b[0m, in \u001b[0;36mcheck_data\u001b[0;34m(*args)\u001b[0m\n\u001b[1;32m     69\u001b[0m     error \u001b[39m=\u001b[39m \u001b[39m\"\u001b[39m\u001b[39mThe #\u001b[39m\u001b[39m{}\u001b[39;00m\u001b[39m argument contains null values\u001b[39m\u001b[39m\"\u001b[39m\n\u001b[1;32m     70\u001b[0m     error \u001b[39m=\u001b[39m error\u001b[39m.\u001b[39mformat(i\u001b[39m+\u001b[39m\u001b[39m1\u001b[39m)\n\u001b[0;32m---> 71\u001b[0m     \u001b[39mraise\u001b[39;00m \u001b[39mValueError\u001b[39;00m(error)\n\u001b[1;32m     73\u001b[0m \u001b[39mif\u001b[39;00m \u001b[39mlen\u001b[39m(args) \u001b[39m>\u001b[39m \u001b[39m1\u001b[39m:\n\u001b[1;32m     74\u001b[0m     result \u001b[39m+\u001b[39m\u001b[39m=\u001b[39m x\n",
      "\u001b[0;31mValueError\u001b[0m: The #1 argument contains null values"
     ]
    }
   ],
   "source": [
    "#### 3 - Creating the modeling dataset\n",
    "# Defining the features\n",
    "# Defining the features\n",
    "features = sim.features\n",
    "\n",
    "# Building training and testing sets #\n",
    "index_train, index_test = train_test_split( range(N), test_size = 0.2)\n",
    "data_train = dataset.loc[index_train].reset_index( drop = True )\n",
    "data_test  = dataset.loc[index_test].reset_index( drop = True )\n",
    "\n",
    "# Creating the X, T and E input\n",
    "X_train, X_test = data_train[features], data_test[features]\n",
    "T_train, T_test = data_train['time'].values, data_test['time'].values\n",
    "E_train, E_test = data_train['event'].values, data_test['event'].values\n",
    "X_valid, T_valid, E_valid = X_test, T_test, E_test\n",
    "\n",
    "scaler = StandardScaler()\n",
    "X_train = scaler.fit_transform(X_train)\n",
    "X_valid = scaler.transform(X_valid)\n",
    "X_test = scaler.transform(X_test)\n",
    "#### 4 - Creating an instance of the Gompertz model and fitting the data.\n",
    "# Building the model\n",
    "gomp_model = LogNormalModelMine(auto_scaler = False)\n",
    "gomp_model.fit(X_train, T_train, E_train, X_valid, T_valid, E_valid, lr=1e-3, init_method='zeros',\n",
    "    optimizer ='adam', l2_reg = 1e-3, num_epochs=2000)\n",
    "\n",
    "\n",
    "#### 5 - Cross Validation / Model Performances\n",
    "c_index = concordance_index(gomp_model, X_test, T_test, E_test) #0.77\n",
    "print('C-index: {:.2f}'.format(c_index))\n",
    "\n",
    "ibs = integrated_brier_score(gomp_model, X_test, T_test, E_test, t_max=30,\n",
    "            figure_size=(20, 6.5) )\n",
    "print('IBS: {:.2f}'.format(ibs))"
   ]
  },
  {
   "cell_type": "code",
   "execution_count": 7,
   "metadata": {},
   "outputs": [
    {
     "ename": "AttributeError",
     "evalue": "'LogNormalModelMine' object has no attribute 'metrics'",
     "output_type": "error",
     "traceback": [
      "\u001b[0;31m---------------------------------------------------------------------------\u001b[0m",
      "\u001b[0;31mAttributeError\u001b[0m                            Traceback (most recent call last)",
      "\u001b[1;32m/home/cctrotte/krauthammer/stcs_code/pysurvival_mine/notebooks_ct/parametric.ipynb Cell 4\u001b[0m line \u001b[0;36m2\n\u001b[1;32m      <a href='vscode-notebook-cell://wsl%2Bubuntu/home/cctrotte/krauthammer/stcs_code/pysurvival_mine/notebooks_ct/parametric.ipynb#W3sdnNjb2RlLXJlbW90ZQ%3D%3D?line=0'>1</a>\u001b[0m plt\u001b[39m.\u001b[39mfigure()\n\u001b[0;32m----> <a href='vscode-notebook-cell://wsl%2Bubuntu/home/cctrotte/krauthammer/stcs_code/pysurvival_mine/notebooks_ct/parametric.ipynb#W3sdnNjb2RlLXJlbW90ZQ%3D%3D?line=1'>2</a>\u001b[0m plt\u001b[39m.\u001b[39mplot(gomp_model\u001b[39m.\u001b[39;49mmetrics[\u001b[39m\"\u001b[39m\u001b[39mc_index_valid\u001b[39m\u001b[39m\"\u001b[39m], label \u001b[39m=\u001b[39m \u001b[39m\"\u001b[39m\u001b[39mvalid\u001b[39m\u001b[39m\"\u001b[39m)\n\u001b[1;32m      <a href='vscode-notebook-cell://wsl%2Bubuntu/home/cctrotte/krauthammer/stcs_code/pysurvival_mine/notebooks_ct/parametric.ipynb#W3sdnNjb2RlLXJlbW90ZQ%3D%3D?line=2'>3</a>\u001b[0m plt\u001b[39m.\u001b[39mplot(gomp_model\u001b[39m.\u001b[39mmetrics[\u001b[39m\"\u001b[39m\u001b[39mc_index_train\u001b[39m\u001b[39m\"\u001b[39m], label \u001b[39m=\u001b[39m \u001b[39m\"\u001b[39m\u001b[39mtrain\u001b[39m\u001b[39m\"\u001b[39m)\n\u001b[1;32m      <a href='vscode-notebook-cell://wsl%2Bubuntu/home/cctrotte/krauthammer/stcs_code/pysurvival_mine/notebooks_ct/parametric.ipynb#W3sdnNjb2RlLXJlbW90ZQ%3D%3D?line=3'>4</a>\u001b[0m plt\u001b[39m.\u001b[39mlegend()\n",
      "\u001b[0;31mAttributeError\u001b[0m: 'LogNormalModelMine' object has no attribute 'metrics'"
     ]
    },
    {
     "data": {
      "text/plain": [
       "<Figure size 640x480 with 0 Axes>"
      ]
     },
     "metadata": {},
     "output_type": "display_data"
    }
   ],
   "source": [
    "plt.figure()\n",
    "plt.plot(gomp_model.metrics[\"c_index_valid\"], label = \"valid\")\n",
    "plt.plot(gomp_model.metrics[\"c_index_train\"], label = \"train\")\n",
    "plt.legend()"
   ]
  },
  {
   "cell_type": "code",
   "execution_count": null,
   "metadata": {},
   "outputs": [],
   "source": []
  }
 ],
 "metadata": {
  "kernelspec": {
   "display_name": "envir",
   "language": "python",
   "name": "python3"
  },
  "language_info": {
   "codemirror_mode": {
    "name": "ipython",
    "version": 3
   },
   "file_extension": ".py",
   "mimetype": "text/x-python",
   "name": "python",
   "nbconvert_exporter": "python",
   "pygments_lexer": "ipython3",
   "version": "3.8.10"
  }
 },
 "nbformat": 4,
 "nbformat_minor": 2
}
