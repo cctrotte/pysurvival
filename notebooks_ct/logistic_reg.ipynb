{
 "cells": [
  {
   "cell_type": "code",
   "execution_count": 1,
   "metadata": {},
   "outputs": [],
   "source": [
    "import sys\n",
    "\n",
    "# adapt paths\n",
    "sys.path.append(\"/home/cctrotte/krauthammer/stcs_code/pysurvival_mine/\")\n",
    "sys.path.append(\"/home/cctrotte/krauthammer/stcs_code/pysurvival_mine/AutonSurvival/\")"
   ]
  },
  {
   "cell_type": "code",
   "execution_count": 2,
   "metadata": {},
   "outputs": [],
   "source": [
    "# from AutonSurvival.auton_survival.metrics import survival_regression_metric"
   ]
  },
  {
   "cell_type": "code",
   "execution_count": 3,
   "metadata": {},
   "outputs": [
    {
     "name": "stdout",
     "output_type": "stream",
     "text": [
      "Number of data-points: 1000 - Number of events: 827.0\n"
     ]
    },
    {
     "data": {
      "text/html": [
       "<div>\n",
       "<style scoped>\n",
       "    .dataframe tbody tr th:only-of-type {\n",
       "        vertical-align: middle;\n",
       "    }\n",
       "\n",
       "    .dataframe tbody tr th {\n",
       "        vertical-align: top;\n",
       "    }\n",
       "\n",
       "    .dataframe thead th {\n",
       "        text-align: right;\n",
       "    }\n",
       "</style>\n",
       "<table border=\"1\" class=\"dataframe\">\n",
       "  <thead>\n",
       "    <tr style=\"text-align: right;\">\n",
       "      <th></th>\n",
       "      <th>x_1</th>\n",
       "      <th>x_2</th>\n",
       "      <th>x_3</th>\n",
       "      <th>time</th>\n",
       "      <th>event</th>\n",
       "    </tr>\n",
       "  </thead>\n",
       "  <tbody>\n",
       "    <tr>\n",
       "      <th>0</th>\n",
       "      <td>1.169239</td>\n",
       "      <td>16.0</td>\n",
       "      <td>5.950641</td>\n",
       "      <td>4.318302</td>\n",
       "      <td>1.0</td>\n",
       "    </tr>\n",
       "    <tr>\n",
       "      <th>1</th>\n",
       "      <td>5.064575</td>\n",
       "      <td>9.0</td>\n",
       "      <td>72.659978</td>\n",
       "      <td>1.912574</td>\n",
       "      <td>1.0</td>\n",
       "    </tr>\n",
       "  </tbody>\n",
       "</table>\n",
       "</div>"
      ],
      "text/plain": [
       "        x_1   x_2        x_3      time  event\n",
       "0  1.169239  16.0   5.950641  4.318302    1.0\n",
       "1  5.064575   9.0  72.659978  1.912574    1.0"
      ]
     },
     "execution_count": 3,
     "metadata": {},
     "output_type": "execute_result"
    }
   ],
   "source": [
    "#### 1 - Importing packages\n",
    "import numpy as np\n",
    "import pandas as pd\n",
    "from matplotlib import pyplot as plt\n",
    "from sklearn.model_selection import train_test_split\n",
    "from sklearn.preprocessing import StandardScaler\n",
    "from pysurvival_mine.models.simulations import SimulationModel\n",
    "from pysurvival_mine.models.multi_task_mine import (\n",
    "    LinearMultiTaskModelMine,\n",
    "    NeuralMultiTaskModelMine,\n",
    ")\n",
    "from pysurvival_mine.utils.metrics import concordance_index\n",
    "from pysurvival_mine.utils.display import integrated_brier_score\n",
    "\n",
    "#%matplotlib inline  # To use with Jupyter notebooks\n",
    "\n",
    "\n",
    "#### 2 - Generating the dataset from a Weibull parametric model\n",
    "# Initializing the simulation model\n",
    "sim = SimulationModel(\n",
    "    survival_distribution=\"Weibull\",\n",
    "    risk_type=\"linear\",\n",
    "    censored_parameter=10.0,\n",
    "    alpha=0.01,\n",
    "    beta=3.0,\n",
    ")\n",
    "\n",
    "# Generating N random samples\n",
    "N = 1000\n",
    "dataset = sim.generate_data(num_samples=N, num_features=3)\n",
    "\n",
    "# Showing a few data-points\n",
    "time_column = \"time\"\n",
    "event_column = \"event\"\n",
    "dataset.head(2)"
   ]
  },
  {
   "cell_type": "code",
   "execution_count": 4,
   "metadata": {},
   "outputs": [
    {
     "data": {
      "image/png": "[encoded data removed]",
      "text/plain": [
       "<Figure size 1440x432 with 1 Axes>"
      ]
     },
     "metadata": {
      "needs_background": "light"
     },
     "output_type": "display_data"
    }
   ],
   "source": [
    "from pysurvival_mine.utils.display import display_baseline_simulations\n",
    "\n",
    "display_baseline_simulations(sim, figure_size=(20, 6))"
   ]
  },
  {
   "cell_type": "code",
   "execution_count": 5,
   "metadata": {},
   "outputs": [
    {
     "name": "stderr",
     "output_type": "stream",
     "text": [
      "% Completion:   0%|                                                           |\r"
     ]
    },
    {
     "name": "stdout",
     "output_type": "stream",
     "text": [
      "1000\n",
      "0\n",
      "1000\n",
      "1\n",
      "1000\n",
      "2\n",
      "1000\n",
      "3\n",
      "1000\n",
      "4\n",
      "1000\n",
      "5\n"
     ]
    },
    {
     "name": "stderr",
     "output_type": "stream",
     "text": [
      "% Completion:   1%|                                              |Loss: 2384.91\r"
     ]
    },
    {
     "name": "stdout",
     "output_type": "stream",
     "text": [
      "1000\n",
      "6\n",
      "1000\n",
      "7\n",
      "1000\n",
      "8\n",
      "1000\n",
      "9\n",
      "1000\n",
      "10\n",
      "1000\n",
      "11\n",
      "1000\n",
      "12\n",
      "1000\n",
      "13\n",
      "1000\n",
      "14\n",
      "1000\n",
      "15\n"
     ]
    },
    {
     "name": "stderr",
     "output_type": "stream",
     "text": [
      "% Completion:   2%|                                              |Loss: 2178.89\r"
     ]
    },
    {
     "name": "stdout",
     "output_type": "stream",
     "text": [
      "1000\n",
      "16\n",
      "1000\n",
      "17\n",
      "1000\n",
      "18\n",
      "1000\n",
      "19\n",
      "1000\n",
      "20\n",
      "1000\n",
      "21\n",
      "1000\n",
      "22\n",
      "1000\n",
      "23\n",
      "1000\n",
      "24\n",
      "1000\n",
      "25\n"
     ]
    },
    {
     "name": "stderr",
     "output_type": "stream",
     "text": [
      "% Completion:   3%|*                                             |Loss: 2052.87\r"
     ]
    },
    {
     "name": "stdout",
     "output_type": "stream",
     "text": [
      "1000\n",
      "26\n",
      "1000\n",
      "27\n",
      "1000\n",
      "28\n",
      "1000\n",
      "29\n",
      "1000\n",
      "30\n",
      "1000\n",
      "31\n",
      "1000\n",
      "32\n",
      "1000\n",
      "33\n",
      "1000\n",
      "34\n",
      "1000\n",
      "35\n"
     ]
    },
    {
     "name": "stderr",
     "output_type": "stream",
     "text": [
      "% Completion:   4%|*                                             |Loss: 1987.47\r"
     ]
    },
    {
     "name": "stdout",
     "output_type": "stream",
     "text": [
      "1000\n",
      "36\n",
      "1000\n",
      "37\n",
      "1000\n",
      "38\n",
      "1000\n",
      "39\n",
      "1000\n",
      "40\n",
      "1000\n",
      "41\n",
      "1000\n",
      "42\n",
      "1000\n",
      "43\n",
      "1000\n",
      "44\n",
      "1000\n",
      "45\n"
     ]
    },
    {
     "name": "stderr",
     "output_type": "stream",
     "text": [
      "% Completion:   5%|**                                            |Loss: 1941.97\r"
     ]
    },
    {
     "name": "stdout",
     "output_type": "stream",
     "text": [
      "1000\n",
      "46\n",
      "1000\n",
      "47\n",
      "1000\n",
      "48\n",
      "1000\n",
      "49\n",
      "1000\n",
      "50\n",
      "1000\n",
      "51\n",
      "1000\n",
      "52\n",
      "1000\n",
      "53\n",
      "1000\n",
      "54\n",
      "1000\n",
      "55\n"
     ]
    },
    {
     "name": "stderr",
     "output_type": "stream",
     "text": [
      "% Completion:   6%|**                                            |Loss: 1910.44\r"
     ]
    },
    {
     "name": "stdout",
     "output_type": "stream",
     "text": [
      "1000\n",
      "56\n",
      "1000\n",
      "57\n",
      "1000\n",
      "58\n",
      "1000\n",
      "59\n",
      "1000\n",
      "60\n",
      "1000\n",
      "61\n",
      "1000\n",
      "62\n",
      "1000\n",
      "63\n",
      "1000\n",
      "64\n",
      "1000\n",
      "65\n"
     ]
    },
    {
     "name": "stderr",
     "output_type": "stream",
     "text": [
      "% Completion:   7%|***                                           |Loss: 1887.88\r"
     ]
    },
    {
     "name": "stdout",
     "output_type": "stream",
     "text": [
      "1000\n",
      "66\n",
      "1000\n",
      "67\n",
      "1000\n",
      "68\n",
      "1000\n",
      "69\n",
      "1000\n",
      "70\n",
      "1000\n",
      "71\n",
      "1000\n",
      "72\n",
      "1000\n",
      "73\n",
      "1000\n",
      "74\n",
      "1000\n",
      "75\n"
     ]
    },
    {
     "name": "stderr",
     "output_type": "stream",
     "text": [
      "% Completion:   8%|***                                           |Loss: 1875.77\r"
     ]
    },
    {
     "name": "stdout",
     "output_type": "stream",
     "text": [
      "1000\n",
      "76\n",
      "1000\n",
      "77\n",
      "1000\n",
      "78\n",
      "1000\n",
      "79\n",
      "1000\n",
      "80\n",
      "1000\n",
      "81\n",
      "1000\n",
      "82\n",
      "1000\n",
      "83\n",
      "1000\n",
      "84\n",
      "1000\n",
      "85\n"
     ]
    },
    {
     "name": "stderr",
     "output_type": "stream",
     "text": [
      "% Completion:   9%|****                                          |Loss: 1851.76\r"
     ]
    },
    {
     "name": "stdout",
     "output_type": "stream",
     "text": [
      "1000\n",
      "86\n",
      "1000\n",
      "87\n",
      "1000\n",
      "88\n",
      "1000\n",
      "89\n",
      "1000\n",
      "90\n",
      "1000\n",
      "91\n",
      "1000\n",
      "92\n",
      "1000\n",
      "93\n",
      "1000\n",
      "94\n",
      "1000\n",
      "95\n"
     ]
    },
    {
     "name": "stderr",
     "output_type": "stream",
     "text": [
      "% Completion:  10%|****                                          |Loss: 1844.91\r"
     ]
    },
    {
     "name": "stdout",
     "output_type": "stream",
     "text": [
      "1000\n",
      "96\n",
      "1000\n",
      "97\n",
      "1000\n",
      "98\n",
      "1000\n",
      "99\n",
      "1000\n",
      "100\n",
      "1000\n",
      "101\n",
      "1000\n",
      "102\n",
      "1000\n",
      "103\n",
      "1000\n",
      "104\n",
      "1000\n",
      "105\n"
     ]
    },
    {
     "name": "stderr",
     "output_type": "stream",
     "text": [
      "% Completion:  11%|*****                                         |Loss: 1834.49\r"
     ]
    },
    {
     "name": "stdout",
     "output_type": "stream",
     "text": [
      "1000\n",
      "106\n",
      "1000\n",
      "107\n",
      "1000\n",
      "108\n",
      "1000\n",
      "109\n",
      "1000\n",
      "110\n",
      "1000\n",
      "111\n",
      "1000\n",
      "112\n",
      "1000\n",
      "113\n",
      "1000\n",
      "114\n",
      "1000\n",
      "115\n"
     ]
    },
    {
     "name": "stderr",
     "output_type": "stream",
     "text": [
      "% Completion:  12%|*****                                         |Loss: 1832.76\r"
     ]
    },
    {
     "name": "stdout",
     "output_type": "stream",
     "text": [
      "1000\n",
      "116\n",
      "1000\n",
      "117\n",
      "1000\n",
      "118\n",
      "1000\n",
      "119\n",
      "1000\n",
      "120\n",
      "1000\n",
      "121\n",
      "1000\n",
      "122\n",
      "1000\n",
      "123\n",
      "1000\n",
      "124\n",
      "1000\n",
      "125\n"
     ]
    },
    {
     "name": "stderr",
     "output_type": "stream",
     "text": [
      "% Completion:  13%|*****                                         |Loss: 1823.60\r"
     ]
    },
    {
     "name": "stdout",
     "output_type": "stream",
     "text": [
      "1000\n",
      "126\n",
      "1000\n",
      "127\n",
      "1000\n",
      "128\n",
      "1000\n",
      "129\n",
      "1000\n",
      "130\n",
      "1000\n",
      "131\n",
      "1000\n",
      "132\n",
      "1000\n",
      "133\n",
      "1000\n",
      "134\n",
      "1000\n",
      "135\n"
     ]
    },
    {
     "name": "stderr",
     "output_type": "stream",
     "text": [
      "% Completion:  14%|******                                        |Loss: 1818.52\r"
     ]
    },
    {
     "name": "stdout",
     "output_type": "stream",
     "text": [
      "1000\n",
      "136\n",
      "1000\n",
      "137\n",
      "1000\n",
      "138\n",
      "1000\n",
      "139\n",
      "1000\n",
      "140\n",
      "1000\n",
      "141\n",
      "1000\n",
      "142\n",
      "1000\n",
      "143\n",
      "1000\n",
      "144\n",
      "1000\n",
      "145\n"
     ]
    },
    {
     "name": "stderr",
     "output_type": "stream",
     "text": [
      "% Completion:  15%|******                                        |Loss: 1810.66\r"
     ]
    },
    {
     "name": "stdout",
     "output_type": "stream",
     "text": [
      "1000\n",
      "146\n",
      "1000\n",
      "147\n",
      "1000\n",
      "148\n",
      "1000\n",
      "149\n",
      "1000\n",
      "150\n",
      "1000\n",
      "151\n",
      "1000\n",
      "152\n",
      "1000\n",
      "153\n",
      "1000\n",
      "154\n",
      "1000\n",
      "155\n"
     ]
    },
    {
     "name": "stderr",
     "output_type": "stream",
     "text": [
      "% Completion:  16%|*******                                       |Loss: 1804.11\r"
     ]
    },
    {
     "name": "stdout",
     "output_type": "stream",
     "text": [
      "1000\n",
      "156\n",
      "1000\n",
      "157\n",
      "1000\n",
      "158\n",
      "1000\n",
      "159\n",
      "1000\n",
      "160\n",
      "1000\n",
      "161\n",
      "1000\n",
      "162\n",
      "1000\n",
      "163\n",
      "1000\n",
      "164\n",
      "1000\n",
      "165\n"
     ]
    },
    {
     "name": "stderr",
     "output_type": "stream",
     "text": [
      "% Completion:  17%|*******                                       |Loss: 1801.12\r"
     ]
    },
    {
     "name": "stdout",
     "output_type": "stream",
     "text": [
      "1000\n",
      "166\n",
      "1000\n",
      "167\n",
      "1000\n",
      "168\n",
      "1000\n",
      "169\n",
      "1000\n",
      "170\n",
      "1000\n",
      "171\n",
      "1000\n",
      "172\n",
      "1000\n",
      "173\n",
      "1000\n",
      "174\n",
      "1000\n",
      "175\n"
     ]
    },
    {
     "name": "stderr",
     "output_type": "stream",
     "text": [
      "% Completion:  18%|********                                      |Loss: 1791.03\r"
     ]
    },
    {
     "name": "stdout",
     "output_type": "stream",
     "text": [
      "1000\n",
      "176\n",
      "1000\n",
      "177\n",
      "1000\n",
      "178\n",
      "1000\n",
      "179\n",
      "1000\n",
      "180\n",
      "1000\n",
      "181\n",
      "1000\n",
      "182\n",
      "1000\n",
      "183\n",
      "1000\n",
      "184\n",
      "1000\n",
      "185\n"
     ]
    },
    {
     "name": "stderr",
     "output_type": "stream",
     "text": [
      "% Completion:  19%|********                                      |Loss: 1796.12\r"
     ]
    },
    {
     "name": "stdout",
     "output_type": "stream",
     "text": [
      "1000\n",
      "186\n",
      "1000\n",
      "187\n",
      "1000\n",
      "188\n",
      "1000\n",
      "189\n",
      "1000\n",
      "190\n",
      "1000\n",
      "191\n",
      "1000\n",
      "192\n",
      "1000\n",
      "193\n",
      "1000\n",
      "194\n",
      "1000\n",
      "195\n"
     ]
    },
    {
     "name": "stderr",
     "output_type": "stream",
     "text": [
      "% Completion:  20%|*********                                     |Loss: 1799.96\r"
     ]
    },
    {
     "name": "stdout",
     "output_type": "stream",
     "text": [
      "1000\n",
      "196\n",
      "1000\n",
      "197\n",
      "1000\n",
      "198\n",
      "1000\n",
      "199\n",
      "1000\n",
      "200\n",
      "1000\n",
      "201\n",
      "1000\n",
      "202\n",
      "1000\n",
      "203\n",
      "1000\n",
      "204\n",
      "1000\n",
      "205\n"
     ]
    },
    {
     "name": "stderr",
     "output_type": "stream",
     "text": [
      "% Completion:  21%|*********                                     |Loss: 1788.23\r"
     ]
    },
    {
     "name": "stdout",
     "output_type": "stream",
     "text": [
      "1000\n",
      "206\n",
      "1000\n",
      "207\n",
      "1000\n",
      "208\n",
      "1000\n",
      "209\n",
      "1000\n",
      "210\n",
      "1000\n",
      "211\n",
      "1000\n",
      "212\n",
      "1000\n",
      "213\n",
      "1000\n",
      "214\n",
      "1000\n",
      "215\n"
     ]
    },
    {
     "name": "stderr",
     "output_type": "stream",
     "text": [
      "% Completion:  22%|**********                                    |Loss: 1778.05\r"
     ]
    },
    {
     "name": "stdout",
     "output_type": "stream",
     "text": [
      "1000\n",
      "216\n",
      "1000\n",
      "217\n",
      "1000\n",
      "218\n",
      "1000\n",
      "219\n",
      "1000\n",
      "220\n",
      "1000\n",
      "221\n",
      "1000\n",
      "222\n",
      "1000\n",
      "223\n",
      "1000\n",
      "224\n",
      "1000\n",
      "225\n"
     ]
    },
    {
     "name": "stderr",
     "output_type": "stream",
     "text": [
      "% Completion:  23%|**********                                    |Loss: 1783.02\r"
     ]
    },
    {
     "name": "stdout",
     "output_type": "stream",
     "text": [
      "1000\n",
      "226\n",
      "1000\n",
      "227\n",
      "1000\n",
      "228\n",
      "1000\n",
      "229\n",
      "1000\n",
      "230\n",
      "1000\n",
      "231\n",
      "1000\n",
      "232\n",
      "1000\n",
      "233\n",
      "1000\n",
      "234\n",
      "1000\n",
      "235\n"
     ]
    },
    {
     "name": "stderr",
     "output_type": "stream",
     "text": [
      "% Completion:  24%|***********                                   |Loss: 1769.36\r"
     ]
    },
    {
     "name": "stdout",
     "output_type": "stream",
     "text": [
      "1000\n",
      "236\n",
      "1000\n",
      "237\n",
      "1000\n",
      "238\n",
      "1000\n",
      "239\n",
      "1000\n",
      "240\n",
      "1000\n",
      "241\n",
      "1000\n",
      "242\n",
      "1000\n",
      "243\n",
      "1000\n",
      "244\n",
      "1000\n",
      "245\n"
     ]
    },
    {
     "name": "stderr",
     "output_type": "stream",
     "text": [
      "% Completion:  25%|***********                                   |Loss: 1764.63\r"
     ]
    },
    {
     "name": "stdout",
     "output_type": "stream",
     "text": [
      "1000\n",
      "246\n",
      "1000\n",
      "247\n",
      "1000\n",
      "248\n",
      "1000\n",
      "249\n",
      "1000\n",
      "250\n",
      "1000\n",
      "251\n",
      "1000\n",
      "252\n",
      "1000\n",
      "253\n",
      "1000\n",
      "254\n",
      "1000\n",
      "255\n"
     ]
    },
    {
     "name": "stderr",
     "output_type": "stream",
     "text": [
      "% Completion:  26%|***********                                   |Loss: 1774.98\r"
     ]
    },
    {
     "name": "stdout",
     "output_type": "stream",
     "text": [
      "1000\n",
      "256\n",
      "1000\n",
      "257\n",
      "1000\n",
      "258\n",
      "1000\n",
      "259\n",
      "1000\n",
      "260\n",
      "1000\n",
      "261\n",
      "1000\n",
      "262\n",
      "1000\n",
      "263\n",
      "1000\n",
      "264\n",
      "1000\n",
      "265\n"
     ]
    },
    {
     "name": "stderr",
     "output_type": "stream",
     "text": [
      "% Completion:  27%|************                                  |Loss: 1760.84\r"
     ]
    },
    {
     "name": "stdout",
     "output_type": "stream",
     "text": [
      "1000\n",
      "266\n",
      "1000\n",
      "267\n",
      "1000\n",
      "268\n",
      "1000\n",
      "269\n",
      "1000\n",
      "270\n",
      "1000\n",
      "271\n",
      "1000\n",
      "272\n",
      "1000\n",
      "273\n",
      "1000\n",
      "274\n",
      "1000\n",
      "275\n"
     ]
    },
    {
     "name": "stderr",
     "output_type": "stream",
     "text": [
      "% Completion:  28%|************                                  |Loss: 1759.15\r"
     ]
    },
    {
     "name": "stdout",
     "output_type": "stream",
     "text": [
      "1000\n",
      "276\n",
      "1000\n",
      "277\n",
      "1000\n",
      "278\n",
      "1000\n",
      "279\n",
      "1000\n",
      "280\n",
      "1000\n",
      "281\n",
      "1000\n",
      "282\n",
      "1000\n",
      "283\n",
      "1000\n",
      "284\n",
      "1000\n",
      "285\n"
     ]
    },
    {
     "name": "stderr",
     "output_type": "stream",
     "text": [
      "% Completion:  29%|*************                                 |Loss: 1761.87\r"
     ]
    },
    {
     "name": "stdout",
     "output_type": "stream",
     "text": [
      "1000\n",
      "286\n",
      "1000\n",
      "287\n",
      "1000\n",
      "288\n",
      "1000\n",
      "289\n",
      "1000\n",
      "290\n",
      "1000\n",
      "291\n",
      "1000\n",
      "292\n",
      "1000\n",
      "293\n",
      "1000\n",
      "294\n",
      "1000\n",
      "295\n"
     ]
    },
    {
     "name": "stderr",
     "output_type": "stream",
     "text": [
      "% Completion:  30%|*************                                 |Loss: 1760.28\r"
     ]
    },
    {
     "name": "stdout",
     "output_type": "stream",
     "text": [
      "1000\n",
      "296\n",
      "1000\n",
      "297\n",
      "1000\n",
      "298\n",
      "1000\n",
      "299\n",
      "1000\n",
      "300\n",
      "1000\n",
      "301\n",
      "1000\n",
      "302\n",
      "1000\n",
      "303\n",
      "1000\n",
      "304\n",
      "1000\n",
      "305\n"
     ]
    },
    {
     "name": "stderr",
     "output_type": "stream",
     "text": [
      "% Completion:  31%|**************                                |Loss: 1758.54\r"
     ]
    },
    {
     "name": "stdout",
     "output_type": "stream",
     "text": [
      "1000\n",
      "306\n",
      "1000\n",
      "307\n",
      "1000\n",
      "308\n",
      "1000\n",
      "309\n",
      "1000\n",
      "310\n",
      "1000\n",
      "311\n",
      "1000\n",
      "312\n",
      "1000\n",
      "313\n",
      "1000\n",
      "314\n",
      "1000\n",
      "315\n"
     ]
    },
    {
     "name": "stderr",
     "output_type": "stream",
     "text": [
      "% Completion:  32%|**************                                |Loss: 1759.98\r"
     ]
    },
    {
     "name": "stdout",
     "output_type": "stream",
     "text": [
      "1000\n",
      "316\n",
      "1000\n",
      "317\n",
      "1000\n",
      "318\n",
      "1000\n",
      "319\n",
      "1000\n",
      "320\n",
      "1000\n",
      "321\n",
      "1000\n",
      "322\n",
      "1000\n",
      "323\n",
      "1000\n",
      "324\n",
      "1000\n",
      "325\n"
     ]
    },
    {
     "name": "stderr",
     "output_type": "stream",
     "text": [
      "% Completion:  33%|***************                               |Loss: 1754.74\r"
     ]
    },
    {
     "name": "stdout",
     "output_type": "stream",
     "text": [
      "1000\n",
      "326\n",
      "1000\n",
      "327\n",
      "1000\n",
      "328\n",
      "1000\n",
      "329\n",
      "1000\n",
      "330\n",
      "1000\n",
      "331\n",
      "1000\n",
      "332\n",
      "1000\n",
      "333\n",
      "1000\n",
      "334\n",
      "1000\n",
      "335\n"
     ]
    },
    {
     "name": "stderr",
     "output_type": "stream",
     "text": [
      "% Completion:  34%|***************                               |Loss: 1753.56\r"
     ]
    },
    {
     "name": "stdout",
     "output_type": "stream",
     "text": [
      "1000\n",
      "336\n",
      "1000\n",
      "337\n",
      "1000\n",
      "338\n",
      "1000\n",
      "339\n",
      "1000\n",
      "340\n",
      "1000\n",
      "341\n",
      "1000\n",
      "342\n",
      "1000\n",
      "343\n",
      "1000\n",
      "344\n",
      "1000\n",
      "345\n"
     ]
    },
    {
     "name": "stderr",
     "output_type": "stream",
     "text": [
      "% Completion:  35%|****************                              |Loss: 1742.24\r"
     ]
    },
    {
     "name": "stdout",
     "output_type": "stream",
     "text": [
      "1000\n",
      "346\n",
      "1000\n",
      "347\n",
      "1000\n",
      "348\n",
      "1000\n",
      "349\n",
      "1000\n",
      "350\n",
      "1000\n",
      "351\n",
      "1000\n",
      "352\n",
      "1000\n",
      "353\n",
      "1000\n",
      "354\n",
      "1000\n",
      "355\n"
     ]
    },
    {
     "name": "stderr",
     "output_type": "stream",
     "text": [
      "% Completion:  36%|****************                              |Loss: 1746.52\r"
     ]
    },
    {
     "name": "stdout",
     "output_type": "stream",
     "text": [
      "1000\n",
      "356\n",
      "1000\n",
      "357\n",
      "1000\n",
      "358\n",
      "1000\n",
      "359\n",
      "1000\n",
      "360\n",
      "1000\n",
      "361\n",
      "1000\n",
      "362\n",
      "1000\n",
      "363\n",
      "1000\n",
      "364\n",
      "1000\n",
      "365\n"
     ]
    },
    {
     "name": "stderr",
     "output_type": "stream",
     "text": [
      "% Completion:  37%|*****************                             |Loss: 1750.29\r"
     ]
    },
    {
     "name": "stdout",
     "output_type": "stream",
     "text": [
      "1000\n",
      "366\n",
      "1000\n",
      "367\n",
      "1000\n",
      "368\n",
      "1000\n",
      "369\n",
      "1000\n",
      "370\n",
      "1000\n",
      "371\n",
      "1000\n",
      "372\n",
      "1000\n",
      "373\n",
      "1000\n",
      "374\n",
      "1000\n",
      "375\n"
     ]
    },
    {
     "name": "stderr",
     "output_type": "stream",
     "text": [
      "% Completion:  38%|*****************                             |Loss: 1741.74\r"
     ]
    },
    {
     "name": "stdout",
     "output_type": "stream",
     "text": [
      "1000\n",
      "376\n",
      "1000\n",
      "377\n",
      "1000\n",
      "378\n",
      "1000\n",
      "379\n",
      "1000\n",
      "380\n"
     ]
    },
    {
     "name": "stderr",
     "output_type": "stream",
     "text": [
      "% Completion: 100%||The gradient exploded... You should reduce the learningrate (lr) of your optimizer\r"
     ]
    },
    {
     "name": "stdout",
     "output_type": "stream",
     "text": [
      "1000\n",
      "381\n",
      "1000\n",
      "382\n",
      "1000\n",
      "383\n",
      "1000\n",
      "384\n",
      "1000\n",
      "385\n",
      "here\n",
      "C-index: 0.79\n"
     ]
    },
    {
     "name": "stderr",
     "output_type": "stream",
     "text": [
      "\n"
     ]
    },
    {
     "data": {
      "image/png": "[encoded data removed]",
      "text/plain": [
       "<Figure size 1440x468 with 1 Axes>"
      ]
     },
     "metadata": {
      "needs_background": "light"
     },
     "output_type": "display_data"
    },
    {
     "name": "stdout",
     "output_type": "stream",
     "text": [
      "IBS: 0.05\n"
     ]
    }
   ],
   "source": [
    "#### 3 - Creating the modeling dataset\n",
    "# Defining the features\n",
    "features = sim.features\n",
    "\n",
    "# Building training and testing sets #\n",
    "index_train, index_test = train_test_split(range(N), test_size=0.2)\n",
    "data_train = dataset.loc[index_train].reset_index(drop=True)\n",
    "data_test = dataset.loc[index_test].reset_index(drop=True)\n",
    "\n",
    "# Creating the X, T and E input\n",
    "X_train, X_test = data_train[features], data_test[features]\n",
    "T_train, T_test = data_train[\"time\"].values, data_test[\"time\"].values\n",
    "E_train, E_test = data_train[\"event\"].values, data_test[\"event\"].values\n",
    "X_valid, T_valid, E_valid = X_test, T_test, E_test\n",
    "\n",
    "#### 4 - Creating an instance of the NonLinear CoxPH model and fitting\n",
    "# the data.\n",
    "\n",
    "# Defining the MLP structure. Here we will build a 1-hidden layer\n",
    "# with 150 units and `BentIdentity` as its activation function\n",
    "structure = [\n",
    "    {\"activation\": \"BentIdentity\", \"num_units\": 150},\n",
    "]\n",
    "\n",
    "scaler = StandardScaler()\n",
    "X_train = scaler.fit_transform(X_train)\n",
    "X_valid = scaler.transform(X_valid)\n",
    "X_test = scaler.transform(X_test)\n",
    "#### 4 - Creating an instance of the Linear MTLR model and fitting the data.\n",
    "# Building the model\n",
    "structure = [\n",
    "    {\"activation\": \"ReLU\", \"num_units\": 150},\n",
    "]\n",
    "l_mtlr = NeuralMultiTaskModelMine(bins=50, auto_scaler=False, structure=structure)\n",
    "# l_mtlr =  LinearMultiTaskModelMine()\n",
    "\n",
    "l_mtlr.fit(\n",
    "    X_train,\n",
    "    T_train,\n",
    "    E_train,\n",
    "    X_valid,\n",
    "    T_valid,\n",
    "    E_valid,\n",
    "    lr=1e-3,\n",
    "    init_method=\"orthogonal\",\n",
    ")\n",
    "\n",
    "\n",
    "#### 5 - Cross Validation / Model Performances\n",
    "c_index = concordance_index(l_mtlr, X_test, T_test, E_test)  # 0.95\n",
    "print(\"C-index: {:.2f}\".format(c_index))\n",
    "\n",
    "ibs = integrated_brier_score(\n",
    "    l_mtlr, X_test, T_test, E_test, t_max=30, figure_size=(20, 6.5)\n",
    ")\n",
    "print(\"IBS: {:.2f}\".format(ibs))"
   ]
  },
  {
   "cell_type": "code",
   "execution_count": 6,
   "metadata": {},
   "outputs": [
    {
     "data": {
      "text/plain": [
       "dict_keys(['c_index_valid', 'c_index_train', 'brs', 'ibs', 'auc', 'ctd'])"
      ]
     },
     "execution_count": 6,
     "metadata": {},
     "output_type": "execute_result"
    }
   ],
   "source": [
    "l_mtlr.metrics.keys()"
   ]
  },
  {
   "cell_type": "code",
   "execution_count": 7,
   "metadata": {},
   "outputs": [
    {
     "data": {
      "text/plain": [
       "[0.348449272623443,\n",
       " 0.21086197196668147,\n",
       " 0.15146461582619425,\n",
       " 0.13311631990043554,\n",
       " 0.12499410246295617,\n",
       " 0.11707221005453702,\n",
       " 0.11046527023353517,\n",
       " 0.1054311801439256,\n",
       " 0.10496672146559848,\n",
       " 0.10225999805688017,\n",
       " 0.09987635155024896,\n",
       " 0.09913365443809721,\n",
       " 0.09997764895447615,\n",
       " 0.09868589056017406,\n",
       " 0.09741687591125843,\n",
       " 0.09625922952178252,\n",
       " 0.0982915615319501,\n",
       " 0.0966505426242893,\n",
       " 0.09618389009880113,\n",
       " 0.09445047701398848,\n",
       " 0.09529186512924234,\n",
       " 0.09569392639255325,\n",
       " 0.09618662234032826,\n",
       " 0.09620194450995301,\n",
       " 0.0921782783611874,\n",
       " 0.09558755818999216,\n",
       " 0.09559130007032259,\n",
       " 0.09310073091022696,\n",
       " 0.09498168737678361,\n",
       " 0.09299876363640644,\n",
       " 0.09389607124279846,\n",
       " 0.0952755210721249,\n",
       " 0.09435270070538296,\n",
       " 0.09431643565912831,\n",
       " 0.09319740417818421,\n",
       " 0.09309398261192423,\n",
       " 0.09502668651038651,\n",
       " 0.09513617322403374,\n",
       " 0.09599717747775878,\n",
       " 0.09352769475447552,\n",
       " 0.09306686628762315,\n",
       " 0.09196493992274049,\n",
       " 0.09346410538310189,\n",
       " 0.09323308485673001,\n",
       " 0.09351822955423761,\n",
       " 0.09396098341154249,\n",
       " 0.09408185944381779,\n",
       " 0.09266731398526853,\n",
       " 0.09356484982153698,\n",
       " 0.09328215636185441,\n",
       " 0.09411460525596707,\n",
       " 0.09434080077274501,\n",
       " 0.0937680920222641,\n",
       " 0.09359933834615168,\n",
       " 0.09331092913797732,\n",
       " 0.09528032882732519,\n",
       " 0.09346292923211925,\n",
       " 0.09602609966087791,\n",
       " 0.09381358210013103,\n",
       " 0.09333289197061975,\n",
       " 0.09435254355976608,\n",
       " 0.09506934398044878,\n",
       " 0.09519566156995737,\n",
       " 0.09392953300242504,\n",
       " 0.0957194743648043,\n",
       " 0.09357736974376867,\n",
       " 0.09473196219480684,\n",
       " 0.09471642036140925,\n",
       " 0.09474364596688178,\n",
       " 0.09514347808677148,\n",
       " 0.09475642723655428,\n",
       " 0.09622556331186913,\n",
       " 0.09598683220910252,\n",
       " 0.0934337314508992,\n",
       " 0.09544742278973717,\n",
       " 0.09377687685093317,\n",
       " 0.095763122536186]"
      ]
     },
     "execution_count": 7,
     "metadata": {},
     "output_type": "execute_result"
    }
   ],
   "source": [
    "l_mtlr.metrics[\"brs\"]"
   ]
  },
  {
   "cell_type": "code",
   "execution_count": 8,
   "metadata": {},
   "outputs": [
    {
     "data": {
      "image/png": "[encoded data removed]",
      "text/plain": [
       "<Figure size 576x288 with 1 Axes>"
      ]
     },
     "metadata": {
      "needs_background": "light"
     },
     "output_type": "display_data"
    }
   ],
   "source": [
    "#### 6 - Comparing actual and predictions\n",
    "# Initializing the figure\n",
    "fig, ax = plt.subplots(figsize=(8, 4))\n",
    "\n",
    "# Randomly extracting a data-point that experienced an event\n",
    "choices = np.argwhere((E_test == 1.0) & (T_test >= 1)).flatten()\n",
    "k = np.random.choice(choices, 1)[0]\n",
    "\n",
    "# Saving the time of event\n",
    "t = T_test[k]\n",
    "\n",
    "# Computing the Survival function for all times t\n",
    "predicted = l_mtlr.predict_survival(X_test[k, :]).flatten()\n",
    "actual = sim.predict_survival(X_test[k, :]).flatten()\n",
    "\n",
    "# Displaying the functions\n",
    "plt.plot(l_mtlr.times, predicted, color=\"blue\", label=\"predicted\", lw=2)\n",
    "plt.plot(sim.times, actual, color=\"red\", label=\"actual\", lw=2)\n",
    "\n",
    "# Actual time\n",
    "plt.axvline(x=t, color=\"black\", ls=\"--\")\n",
    "ax.annotate(\"T={:.1f}\".format(t), xy=(t, 0.5), xytext=(t, 0.5), fontsize=12)\n",
    "\n",
    "# Show everything\n",
    "title = \"Comparing Survival functions between Actual and Predicted\"\n",
    "plt.legend(fontsize=12)\n",
    "plt.title(title, fontsize=15)\n",
    "plt.ylim(0, 1.05)\n",
    "plt.show()"
   ]
  },
  {
   "cell_type": "code",
   "execution_count": 9,
   "metadata": {},
   "outputs": [
    {
     "data": {
      "text/plain": [
       "<matplotlib.legend.Legend at 0x7f09e7f4b3d0>"
      ]
     },
     "execution_count": 9,
     "metadata": {},
     "output_type": "execute_result"
    },
    {
     "data": {
      "image/png": "[encoded data removed]",
      "text/plain": [
       "<Figure size 432x288 with 1 Axes>"
      ]
     },
     "metadata": {
      "needs_background": "light"
     },
     "output_type": "display_data"
    }
   ],
   "source": [
    "plt.figure()\n",
    "plt.plot(l_mtlr.metrics[\"c_index_valid\"], label=\"valid\")\n",
    "plt.plot(l_mtlr.metrics[\"c_index_train\"], label=\"train\")\n",
    "plt.legend()"
   ]
  },
  {
   "cell_type": "code",
   "execution_count": 10,
   "metadata": {},
   "outputs": [],
   "source": [
    "from pysurvival_mine.utils.display import compare_to_actual"
   ]
  },
  {
   "cell_type": "code",
   "execution_count": 11,
   "metadata": {},
   "outputs": [
    {
     "data": {
      "image/png": "[encoded data removed]",
      "text/plain": [
       "<Figure size 1152x432 with 1 Axes>"
      ]
     },
     "metadata": {
      "needs_background": "light"
     },
     "output_type": "display_data"
    },
    {
     "data": {
      "text/plain": [
       "{'root_mean_squared_error': 8.223229434605088,\n",
       " 'median_absolute_error': 6.159367472301469,\n",
       " 'mean_absolute_error': 6.803613855071508}"
      ]
     },
     "execution_count": 11,
     "metadata": {},
     "output_type": "execute_result"
    }
   ],
   "source": [
    "compare_to_actual(\n",
    "    l_mtlr,\n",
    "    X_test,\n",
    "    T_test,\n",
    "    E_test,\n",
    "    is_at_risk=True,\n",
    "    figure_size=(16, 6),\n",
    "    metrics=[\"rmse\", \"mean\", \"median\"],\n",
    ")"
   ]
  },
  {
   "cell_type": "code",
   "execution_count": null,
   "metadata": {},
   "outputs": [],
   "source": []
  }
 ],
 "metadata": {
  "kernelspec": {
   "display_name": "envir",
   "language": "python",
   "name": "python3"
  },
  "language_info": {
   "codemirror_mode": {
    "name": "ipython",
    "version": 3
   },
   "file_extension": ".py",
   "mimetype": "text/x-python",
   "name": "python",
   "nbconvert_exporter": "python",
   "pygments_lexer": "ipython3",
   "version": "3.8.10"
  }
 },
 "nbformat": 4,
 "nbformat_minor": 2
}
